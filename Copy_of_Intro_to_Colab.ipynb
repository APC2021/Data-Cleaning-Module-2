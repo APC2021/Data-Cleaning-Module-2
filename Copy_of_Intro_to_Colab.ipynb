{
  "nbformat": 4,
  "nbformat_minor": 0,
  "metadata": {
    "colab": {
      "name": "Copy of Intro to Colab",
      "provenance": [],
      "collapsed_sections": [],
      "include_colab_link": true
    },
    "kernelspec": {
      "name": "python3",
      "display_name": "Python 3"
    }
  },
  "cells": [
    {
      "cell_type": "markdown",
      "metadata": {
        "id": "view-in-github",
        "colab_type": "text"
      },
      "source": [
        "<a href=\"https://colab.research.google.com/github/APC2021/Data-Cleaning-Module-2/blob/main/Copy_of_Intro_to_Colab.ipynb\" target=\"_parent\"><img src=\"https://colab.research.google.com/assets/colab-badge.svg\" alt=\"Open In Colab\"/></a>"
      ]
    },
    {
      "cell_type": "markdown",
      "metadata": {
        "id": "o0vW8FyO4rYy"
      },
      "source": [
        "# **Intro to Colab**\n",
        "\n",
        "Colab is a platform like Observable, where we'll learn **python**.  Like Observable, pages on Colab are called **notebooks** and run interactive cells.  Colab notebooks can be saved to your Google Drive or Github.  They can be displayed on Github, but you can't edit them there (hence why we're editing on Colab!).  Colab is a platform for running jupyter notebooks, a fileformat that can also be run elsewhere."
      ]
    },
    {
      "cell_type": "markdown",
      "metadata": {
        "id": "QWZZzjxy5jz4"
      },
      "source": [
        "Like Observable, we can name variables and run math in cells.  Objects, arrays, and indexes work the same way here too.  Cells can perform an operation, or define a named variable to be used elsewhere just like on Observable.  Try clicking the play button on each of the cells below."
      ]
    },
    {
      "cell_type": "code",
      "metadata": {
        "id": "2ENC9bFN-1L8",
        "colab": {
          "base_uri": "https://localhost:8080/"
        },
        "outputId": "78f7aef4-4099-4e8c-c520-21881e6e4f31"
      },
      "source": [
        "24 * 60 * 60"
      ],
      "execution_count": null,
      "outputs": [
        {
          "output_type": "execute_result",
          "data": {
            "text/plain": [
              "86400"
            ]
          },
          "metadata": {
            "tags": []
          },
          "execution_count": 4
        }
      ]
    },
    {
      "cell_type": "code",
      "metadata": {
        "id": "ypqjk_7I4kCZ",
        "colab": {
          "base_uri": "https://localhost:8080/"
        },
        "outputId": "010abc0a-25d9-43db-d27b-f3e0859ec2e8"
      },
      "source": [
        "seconds_in_a_day = 24 * 60 * 60\n",
        "seconds_in_a_day"
      ],
      "execution_count": 25,
      "outputs": [
        {
          "output_type": "execute_result",
          "data": {
            "text/plain": [
              "86400"
            ]
          },
          "metadata": {
            "tags": []
          },
          "execution_count": 25
        }
      ]
    },
    {
      "cell_type": "markdown",
      "metadata": {
        "id": "d3S8LFrf6dRA"
      },
      "source": [
        "## Forking\n",
        "\n",
        "Forking works similarly as well.  On Colab, go File > Save a Copy in Drive to save a copy of this notebook to your own google drive and make edits.  Do that now so that you can work through the lesson on your own!"
      ]
    },
    {
      "cell_type": "markdown",
      "metadata": {
        "id": "7x3aryCI7rM7"
      },
      "source": [
        "## Python basics\n",
        "\n",
        "Since we're learning python on Colab, some things are a little different than in javascript, but many things are the same or similar.  For example, to compare 42 and \"42\" in javascript, we would do\n",
        "\n",
        "42 === \"42\"\n",
        "\n",
        "but in python that would give us an error.  In python, we test for an exact match with =="
      ]
    },
    {
      "cell_type": "code",
      "metadata": {
        "id": "ktAwRzwU7eab",
        "colab": {
          "base_uri": "https://localhost:8080/"
        },
        "outputId": "502675a2-06ae-47b4-ad26-ea00950a56e7"
      },
      "source": [
        "42 == \"42\""
      ],
      "execution_count": 26,
      "outputs": [
        {
          "output_type": "execute_result",
          "data": {
            "text/plain": [
              "False"
            ]
          },
          "metadata": {
            "tags": []
          },
          "execution_count": 26
        }
      ]
    },
    {
      "cell_type": "markdown",
      "metadata": {
        "id": "52cgKuV-8Axk"
      },
      "source": [
        "And like javascript, the number 42 and the text string 42 are **not** the same in python.\n",
        "\n",
        "We can also coerce strings to numbers here, but it looks a little different.  Instead of +, in python int() will coerce the string inside it to a number (or integer, hence int() ).  In both javascript and python, an integer is a whole number with no decimal point following."
      ]
    },
    {
      "cell_type": "code",
      "metadata": {
        "id": "SRjZWNv28Kg5",
        "colab": {
          "base_uri": "https://localhost:8080/"
        },
        "outputId": "21e8a119-230c-44ee-a99c-2f27d04c44b4"
      },
      "source": [
        "42 == int(\"42\")"
      ],
      "execution_count": 27,
      "outputs": [
        {
          "output_type": "execute_result",
          "data": {
            "text/plain": [
              "True"
            ]
          },
          "metadata": {
            "tags": []
          },
          "execution_count": 27
        }
      ]
    },
    {
      "cell_type": "markdown",
      "metadata": {
        "id": "y2hfAfJE8p9a"
      },
      "source": [
        "And, like javascript, we can't coerce a string with non-number characters into a number (but python gives us a much noiser error message!)."
      ]
    },
    {
      "cell_type": "code",
      "metadata": {
        "id": "9E4iRu4f8lvc",
        "colab": {
          "base_uri": "https://localhost:8080/",
          "height": 171
        },
        "outputId": "e5a89982-48bd-484e-d55b-fcb414bcd29a"
      },
      "source": [
        "int(\"$42\")"
      ],
      "execution_count": 28,
      "outputs": [
        {
          "output_type": "error",
          "ename": "ValueError",
          "evalue": "ignored",
          "traceback": [
            "\u001b[0;31m---------------------------------------------------------------------------\u001b[0m",
            "\u001b[0;31mValueError\u001b[0m                                Traceback (most recent call last)",
            "\u001b[0;32m<ipython-input-28-6a4634da17cb>\u001b[0m in \u001b[0;36m<module>\u001b[0;34m()\u001b[0m\n\u001b[0;32m----> 1\u001b[0;31m \u001b[0mint\u001b[0m\u001b[0;34m(\u001b[0m\u001b[0;34m\"$42\"\u001b[0m\u001b[0;34m)\u001b[0m\u001b[0;34m\u001b[0m\u001b[0;34m\u001b[0m\u001b[0m\n\u001b[0m",
            "\u001b[0;31mValueError\u001b[0m: invalid literal for int() with base 10: '$42'"
          ]
        }
      ]
    },
    {
      "cell_type": "markdown",
      "metadata": {
        "id": "mHA1Sd4n_VhD"
      },
      "source": [
        "## Functions\n",
        "\n",
        "Like Observable, we can define named variables and use them elsewhere, but functions look a bit different in python."
      ]
    },
    {
      "cell_type": "code",
      "metadata": {
        "id": "W4YS1I4x-iHc"
      },
      "source": [
        "name = \"Aimee\""
      ],
      "execution_count": 1,
      "outputs": []
    },
    {
      "cell_type": "markdown",
      "metadata": {
        "id": "E_ckO-55_by6"
      },
      "source": [
        "In python we define a function with **def name_of_function():**  Note that def, the parentheses() and : are all essential!  Like variable names, function names are arbitrary, but it's good practice to make them something clear and connected to what they do. And just like in javascript, variable names can't contain spaces or punctuation.\n",
        " \n",
        "Note also that **indentation matters** in python.  Indentation doesn't matter in javascript, but it makes things easier to read.  In python, indentation tells the computer what lines are part of the same function.  When python encounters something like a function, or a few other things we'll look at below, it looks for at least one line of indentation and runs everything it finds at that depth of indentation until it encounters a change in indentation again.  **Remember that indentation matters.** Try un-denting the line under def greet() and see what happens."
      ]
    },
    {
      "cell_type": "code",
      "metadata": {
        "id": "RzyXMsIh-MAj",
        "colab": {
          "base_uri": "https://localhost:8080/",
          "height": 135
        },
        "outputId": "596c022d-d28d-40a0-9f86-aa80930532a3"
      },
      "source": [
        "def greet(data):          # this is a comment! Anything in a comment is not run\n",
        "print(f'Hello {data}!') # f here tells python to expect a variable inside this string"
      ],
      "execution_count": 2,
      "outputs": [
        {
          "output_type": "error",
          "ename": "IndentationError",
          "evalue": "ignored",
          "traceback": [
            "\u001b[0;36m  File \u001b[0;32m\"<ipython-input-2-5517331a890b>\"\u001b[0;36m, line \u001b[0;32m2\u001b[0m\n\u001b[0;31m    print(f'Hello {data}!') # f here tells python to expect a variable inside this string\u001b[0m\n\u001b[0m        ^\u001b[0m\n\u001b[0;31mIndentationError\u001b[0m\u001b[0;31m:\u001b[0m expected an indented block\n"
          ]
        }
      ]
    },
    {
      "cell_type": "markdown",
      "metadata": {
        "id": "QzPwauDlAk9J"
      },
      "source": [
        "Another thing to note about Colabs that is different than Observable is that you have to manually tell Colabs to run a cell.  If you try to run *greet(name)* below and you haven't run the cell *name* above, it will give you an error!  Observable updates all connected cells if any of them change, but on Colabs you have to manually run cells after changing them if you want the computer to know about those changes.  You can write cells in any order, but the order you run them in matters."
      ]
    },
    {
      "cell_type": "code",
      "metadata": {
        "id": "x3ycM8vP-tum",
        "colab": {
          "base_uri": "https://localhost:8080/",
          "height": 171
        },
        "outputId": "21ebd5c8-a9da-4851-df3e-f4e738ae29ec"
      },
      "source": [
        "greet(name)"
      ],
      "execution_count": 3,
      "outputs": [
        {
          "output_type": "error",
          "ename": "NameError",
          "evalue": "ignored",
          "traceback": [
            "\u001b[0;31m---------------------------------------------------------------------------\u001b[0m",
            "\u001b[0;31mNameError\u001b[0m                                 Traceback (most recent call last)",
            "\u001b[0;32m<ipython-input-3-586b18f9a32b>\u001b[0m in \u001b[0;36m<module>\u001b[0;34m()\u001b[0m\n\u001b[0;32m----> 1\u001b[0;31m \u001b[0mgreet\u001b[0m\u001b[0;34m(\u001b[0m\u001b[0mname\u001b[0m\u001b[0;34m)\u001b[0m\u001b[0;34m\u001b[0m\u001b[0;34m\u001b[0m\u001b[0m\n\u001b[0m",
            "\u001b[0;31mNameError\u001b[0m: name 'greet' is not defined"
          ]
        }
      ]
    },
    {
      "cell_type": "markdown",
      "metadata": {
        "id": "3uAdu09Oirz1"
      },
      "source": [
        "Functions need to be explicitly told to **return** a value or variable.  Below, we're trying to add 2 +  1 and then print it, but if you hit the play icon, you'll get an error.  Try uncommenting the return by deleting #."
      ]
    },
    {
      "cell_type": "code",
      "metadata": {
        "id": "pU7skesEhkOI"
      },
      "source": [
        " \n",
        "new = 2\n",
        " \n",
        "def do_a_thing(input):\n",
        "  thing = input + 1\n",
        "  return thing"
      ],
      "execution_count": 12,
      "outputs": []
    },
    {
      "cell_type": "code",
      "metadata": {
        "id": "tk6HMunkiKsI",
        "colab": {
          "base_uri": "https://localhost:8080/"
        },
        "outputId": "ca5af479-1ccc-4642-ce4b-90c6e90f81b6"
      },
      "source": [
        "print(do_a_thing(new))"
      ],
      "execution_count": 13,
      "outputs": [
        {
          "output_type": "stream",
          "text": [
            "3\n"
          ],
          "name": "stdout"
        }
      ]
    },
    {
      "cell_type": "markdown",
      "metadata": {
        "id": "zDwi8qJ4BcMa"
      },
      "source": [
        "## Loops\n",
        "\n",
        "We can define our own functions with def, but there are also built in functions that we can call.  Depending on what we're trying to do, we can get the same result in many different ways.\n",
        "\n",
        "Python can perform a **loop** in two different ways.  With **while**, we give python a condition, and as long as that condition is true, it will continue to run.  (If we passed a condition like 1 = 1, it would run forever!)\n",
        "\n",
        "Notice in the cell below, our condition is \"while count is less than 5.\"  To make this run, we define *count* outside the while loop, and then we **increment** count within the while loop.  **+=** is the same as writing count = count + 1; it's just a shorter way to write it.  We could also do this with -=."
      ]
    },
    {
      "cell_type": "code",
      "metadata": {
        "id": "rb93MnO-kQbS",
        "colab": {
          "base_uri": "https://localhost:8080/"
        },
        "outputId": "b4ce2a22-0376-4d0d-c914-ec1592b48589"
      },
      "source": [
        "count = 0\n",
        " \n",
        "while count < 5:\n",
        "  print(\"print this!\")\n",
        "  count += 1"
      ],
      "execution_count": 76,
      "outputs": [
        {
          "output_type": "stream",
          "text": [
            "print this!\n",
            "print this!\n",
            "print this!\n",
            "print this!\n",
            "print this!\n"
          ],
          "name": "stdout"
        }
      ]
    },
    {
      "cell_type": "markdown",
      "metadata": {
        "id": "HiEBgl4dGWdn"
      },
      "source": [
        "We could also do the same thing with a **for** loop.  for doesn't take a condition like while; for counts the number of times it does something in a given collection.\n",
        "\n",
        "In the loop below, we're telling python to print a phrase once each for a range of numbers 1-5.  We could pass any single number to range() and it would print that many times.  (And count is an arbitrary variable name!  We could change it to c, icecream, mycat, whatever!)\n",
        "\n",
        "We could also pass range() 2 numbers like range(5,10), and range will start at the first and end at the second.  Try changing the loop below to range(5,10) and see what happens!"
      ]
    },
    {
      "cell_type": "code",
      "metadata": {
        "id": "akPs8v9PlB1u",
        "colab": {
          "base_uri": "https://localhost:8080/"
        },
        "outputId": "66beb298-58d3-4b59-c664-966da54a6029"
      },
      "source": [
        "for thing in range(5,10):\n",
        "  print(\"print this!\")"
      ],
      "execution_count": 14,
      "outputs": [
        {
          "output_type": "stream",
          "text": [
            "print this!\n",
            "print this!\n",
            "print this!\n",
            "print this!\n",
            "print this!\n"
          ],
          "name": "stdout"
        }
      ]
    },
    {
      "cell_type": "markdown",
      "metadata": {
        "id": "qAkrk2soJV1i"
      },
      "source": [
        "But what if we don't know how many times we need to do something?  What if we had a group of things, and we need to do something to each one?  If we have an array (or list of things or {objects}), we could count how many of them there are with len(array), which gives us the **len**gth of the variable passed to len(array).  \n",
        "\n",
        "len() results in a number, so we can pass that number to range()!"
      ]
    },
    {
      "cell_type": "code",
      "metadata": {
        "id": "aV4wXIkTkFxc"
      },
      "source": [
        "array = [\"ten\", \"twenty\", \"thirty\", \"forty\", \"fifty\"]"
      ],
      "execution_count": 15,
      "outputs": []
    },
    {
      "cell_type": "code",
      "metadata": {
        "id": "TKrY-Pbebl-g",
        "colab": {
          "base_uri": "https://localhost:8080/"
        },
        "outputId": "0634e992-206e-412e-f0de-af434e850624"
      },
      "source": [
        "len(array)"
      ],
      "execution_count": 16,
      "outputs": [
        {
          "output_type": "execute_result",
          "data": {
            "text/plain": [
              "5"
            ]
          },
          "metadata": {
            "tags": []
          },
          "execution_count": 16
        }
      ]
    },
    {
      "cell_type": "code",
      "metadata": {
        "id": "QYzGR-1_boyz",
        "colab": {
          "base_uri": "https://localhost:8080/"
        },
        "outputId": "05aa130d-a0cf-45a1-a027-98cc1e13631b"
      },
      "source": [
        "for thing in range(len(array)):\n",
        "  print(\"print \" + str(thing) +\"!\")"
      ],
      "execution_count": 17,
      "outputs": [
        {
          "output_type": "stream",
          "text": [
            "print 0!\n",
            "print 1!\n",
            "print 2!\n",
            "print 3!\n",
            "print 4!\n"
          ],
          "name": "stdout"
        }
      ]
    },
    {
      "cell_type": "markdown",
      "metadata": {
        "id": "kEeaTKZwKd3c"
      },
      "source": [
        "Notice that we're coercing *thing* into a **str**ing with str() just like we coerce text into integers!  What kind of object is *thing* in this case?  \n",
        "\n",
        "(Also note that *thing* is another arbitrary variable name.  i is often used in the place of thing here, because it's **i**ncremented every time the loop runs.)\n",
        "\n",
        "If we run *for thing in range()*, we get a number, but not the numbers in our array.  *thing* here is a variable standing in to represent the number of times the loop has run, or its index.  Remember that an index always starts at 0, and it's not the item in the array itself, it's the position of that item in the array.  So what's the index of 30 in array? We can access items by their index in python the same way we do in javascript; look back at the [Intro to Observable](https://observablehq.com/@mkane2/intro-to-observable) lesson if you need a refresher."
      ]
    },
    {
      "cell_type": "code",
      "metadata": {
        "id": "tf1hhD0xdAJf",
        "colab": {
          "base_uri": "https://localhost:8080/"
        },
        "outputId": "251d2155-b9a7-4d21-de4e-700048e2e345"
      },
      "source": [
        "position_of_thirty = array[2]\n",
        "print(position_of_thirty)"
      ],
      "execution_count": 22,
      "outputs": [
        {
          "output_type": "stream",
          "text": [
            "thirty\n"
          ],
          "name": "stdout"
        }
      ]
    },
    {
      "cell_type": "markdown",
      "metadata": {
        "id": "HXE3YdxKefmn"
      },
      "source": [
        "But what if we need to access the item in the array, not just its position?  We could manually tell the loop to access each item by its index that we get from thing like this:"
      ]
    },
    {
      "cell_type": "code",
      "metadata": {
        "id": "DcfiEm1_h_7C",
        "colab": {
          "base_uri": "https://localhost:8080/"
        },
        "outputId": "8b485f96-83ed-4959-8aa9-04f42ec155a3"
      },
      "source": [
        "for thing in range(len(array)):\n",
        "  print(\"print \" + array[thing] + \"!\")"
      ],
      "execution_count": 23,
      "outputs": [
        {
          "output_type": "stream",
          "text": [
            "print ten!\n",
            "print twenty!\n",
            "print thirty!\n",
            "print forty!\n",
            "print fifty!\n"
          ],
          "name": "stdout"
        }
      ]
    },
    {
      "cell_type": "markdown",
      "metadata": {
        "id": "W5QEos5jmQYT"
      },
      "source": [
        "But python also gives us a way to directly access items in an array without counting and without the index of the item.  Below, we're printing every item in the array directly:"
      ]
    },
    {
      "cell_type": "code",
      "metadata": {
        "id": "AgZk7MUwC7gH",
        "colab": {
          "base_uri": "https://localhost:8080/"
        },
        "outputId": "6a7aae73-0233-4a10-891b-0e2a474e8f3d"
      },
      "source": [
        "for item in array:\n",
        "  print(\"print \" + item + \"!\")  # what we're doing here is called string concatenation.  \n",
        "                                # We're literally adding the strings 'print ' and '!' to our variable item!\n",
        "                                # This works in javascript too"
      ],
      "execution_count": 24,
      "outputs": [
        {
          "output_type": "stream",
          "text": [
            "print ten!\n",
            "print twenty!\n",
            "print thirty!\n",
            "print forty!\n",
            "print fifty!\n"
          ],
          "name": "stdout"
        }
      ]
    },
    {
      "cell_type": "markdown",
      "metadata": {
        "id": "mV8ST4Cbgvwt"
      },
      "source": [
        "## Working with Data\n",
        "\n",
        "So far we've been working with data that we define right here in our notebook, but often we'll want to work with a large file of data from somewhere else (this is, in fact, the entire reason we're learning python in a history course!).\n",
        "\n",
        "We could upload a file directly using the folder icon over to the left, but there's two issues with this.  First, unlike Observable, Colab only stores uploaded files so long as the notebook is running--once you close the tab, the notebook will stop running, and your files will be lost!  Second, file uploads in Colab can be very slow if they're large files.  Sometimes we might work with data files locally, but you should also know how to load external files.\n",
        "\n",
        "One way to deal with this is to import a library to extend python's abilities and use that to connect to an external file.  **import** below brings in two libraries: the csv library and the requests library.  csv will give us new methods to work with csv files, and requests will allow us to request external files."
      ]
    },
    {
      "cell_type": "code",
      "metadata": {
        "id": "2gHx7QXrQPlL"
      },
      "source": [
        "import csv        # usually imports are defined at the top of any python program,\n",
        "import requests   # but in Colabs they can be defined anywhere as long as they're run\n",
        "                  # with the play button before the methods that depend on them are called.\n",
        "                  # If you try to use a method before importing the library it's from,\n",
        "                  # you'll get a \"name 'whatever method you want to use' is not defined\" error"
      ],
      "execution_count": 30,
      "outputs": []
    },
    {
      "cell_type": "markdown",
      "metadata": {
        "id": "N1MBjIlVeWXX"
      },
      "source": [
        "Here we'll start getting the data from an external csv file hosted on Github.  First we'll use the requests library to get the url of the csv file, and we'll assign it to the variable *external_file*."
      ]
    },
    {
      "cell_type": "code",
      "metadata": {
        "id": "G_Y1xHuadd4S"
      },
      "source": [
        "url = 'https://raw.githubusercontent.com/mkane2/intro_to_colab/main/black1815.csv'\n",
        "external_file = requests.get(url)"
      ],
      "execution_count": 71,
      "outputs": []
    },
    {
      "cell_type": "markdown",
      "metadata": {
        "id": "hPtn4iBReoTX"
      },
      "source": [
        "However, that doesn't actuallly give us the data in that file; we have to first interpret the response we get from that url and read it as a csv file.  If you try to print that *external_file* without interpreting it, look what you get: (Hint: replace ??? with the name of the variable we're printing)"
      ]
    },
    {
      "cell_type": "code",
      "metadata": {
        "id": "02uwdrZ9eqI0",
        "colab": {
          "base_uri": "https://localhost:8080/"
        },
        "outputId": "3b8d12e5-0258-4641-aced-e47c3941a3c8"
      },
      "source": [
        "print(external_file)"
      ],
      "execution_count": 72,
      "outputs": [
        {
          "output_type": "stream",
          "text": [
            "<Response [200]>\n"
          ],
          "name": "stdout"
        }
      ]
    },
    {
      "cell_type": "markdown",
      "metadata": {
        "id": "ioqzeQWBfBUq"
      },
      "source": [
        "To interpret that result (<Response 200> is a web code meaning that there is a file at that address, not a 404 not found error), we'll use the csv library.  Below, we'll tell python we want to use the csv.reader() function to read the external_file.  Further, we want to read it as text and split it into lines at every \\n or newline character.  \\n represents a hard return like\n",
        "\n",
        "\n",
        "this.  Although \\n doesn't appear as a human-readable character, python and other computer languages can see and interpret it.  Here we'll use it to chunk up the text of external_file and read each line."
      ]
    },
    {
      "cell_type": "code",
      "metadata": {
        "id": "CRpjOxUxed3v"
      },
      "source": [
        "data = csv.reader(external_file.text.split('\\n'))"
      ],
      "execution_count": 73,
      "outputs": []
    },
    {
      "cell_type": "markdown",
      "metadata": {
        "id": "fOtKHP1cg_yK"
      },
      "source": [
        "Sow now that we've interpreted our csv, let's print it!  *data* will now return an array just like the array we used in the examples above.  Write a for loop that prints each item in the new *data* array:"
      ]
    },
    {
      "cell_type": "code",
      "metadata": {
        "id": "GbRdiVaGdfho",
        "colab": {
          "base_uri": "https://localhost:8080/"
        },
        "outputId": "c5a7f73d-5595-435f-e0bb-23c62167fc8c"
      },
      "source": [
        "for line in (data):\n",
        "  print(\"print \"+ str(line) + \"!\")"
      ],
      "execution_count": 81,
      "outputs": [
        {
          "output_type": "stream",
          "text": [
            "print ['Everston', 'Jacob', '', '22 Sheridan Ave', 'Albany', 'NY', 'black', 'male']!\n",
            "print ['Foster', 'Cesar', 'butcher', '4 Howard St', 'Albany', 'NY', 'black', 'male']!\n",
            "print ['Golen/Golden', 'George', 'laborer', '51 Sheridan Ave', 'Albany', 'NY', 'black', 'male']!\n",
            "print ['Hawkins', 'Isaac', 'grocer', '231 N. Market', 'Albany', 'NY', 'black', 'male']!\n",
            "print ['Jacobs', 'Francis', 'sweep master', '24 N. Pearl', 'Albany', 'NY', 'black', 'male']!\n",
            "print ['Jackson', 'Abraham', '', 'Bassett', 'Albany', 'NY', 'black', 'male']!\n",
            "print ['Jackson', 'John', 'laborer', 'Arbor Hill', 'Albany', 'NY', 'black', 'male']!\n",
            "print ['Jackson', 'John', 'laborer', '218 S. Pearl', 'Albany', 'NY', 'black', 'male']!\n",
            "print ['Jackson', 'James', 'shoeblack', '41 Division', 'Albany', 'NY', 'black', 'male']!\n",
            "print ['Jackson', 'Jack', 'waterman', '24 Sheridan Ave', 'Albany', 'NY', 'black', 'male']!\n",
            "print ['Jackson', 'Lewis', 'waterman', '36 Chapel', 'Albany', 'NY', 'black', 'male']!\n",
            "print ['Dinnah Jackson', 'Widow', '', '31 Maiden Lane', 'Albany', 'NY', 'black', 'female']!\n",
            "print ['Jackson', 'Bristol', 'waterman', 'Bassett', 'Albany', 'NY', 'black', 'male']!\n",
            "print ['Johnson', 'John', 'waterman', 'Bassett', 'Albany', 'NY', 'black', 'male']!\n",
            "print ['Lattimer', 'Benjamin', '', '9 Plain', 'Albany', 'NY', 'black', 'male']!\n",
            "print ['Mingo', 'Peter', 'waterman', '63 Maiden Ln', 'Albany', 'NY', 'black', 'male']!\n",
            "print ['Otefield', 'Henry', 'ferryman', '76 Church', 'Albany', 'NY', 'black', 'male']!\n",
            "print ['Pepper', 'William', 'laborer', '54 N. Market', 'Albany', 'NY', 'black', 'male']!\n",
            "print ['Pruyn', 'Piars', '', '59 Monroe St', 'Albany', 'NY', 'black', 'male']!\n",
            "print ['Robinson', 'Francis', 'cartman', 'Water St.', 'Albany', 'NY', 'black', 'male']!\n",
            "print ['Rocket', 'Douw', 'ferryman', 'Livingston Ave', 'Albany', 'NY', 'black', 'male']!\n",
            "print ['Schuyler', 'Samuel', 'skipper', '204 S. Pearl', 'Albany', 'NY', 'black', 'male']!\n",
            "print ['Smith', 'Anthony', '', '18 Monroe St', 'Albany', 'NY', 'black', 'male']!\n",
            "print ['Swan & Foot Grocers', '', 'grocers', '16 Madison Ave', 'Albany', 'NY', 'black', 'male']!\n",
            "print ['Talbot', 'Cornelius', 'shoemaker', '75 Maiden Ln.', 'Albany', 'NY', 'black', 'male']!\n",
            "print ['Thompson', 'Charity', '', '65 Maiden Ln.', 'Albany', 'NY', 'black', 'female']!\n",
            "print ['Thompson', 'Jacob', 'cartman', '53 Sheridan Ave', 'Albany', 'NY', 'black', 'male']!\n",
            "print ['Thompson', 'John', 'waterman', 'Arbor Hill', 'Albany', 'NY', 'black', 'male']!\n",
            "print ['Thompson', 'Thomas', 'shoeblack', '1 Stuben', 'Albany', 'NY', 'black', 'male']!\n",
            "print ['Titus', 'Jacob', 'waterman', '22 Sheridan Ave', 'Albany', 'NY', 'black', 'male']!\n",
            "print ['Top', 'John', 'musician', 'Ferry', 'Albany', 'NY', 'black', 'male']!\n",
            "print ['Van Pelt', 'Francis', '', '45 Liberty.', 'Albany', 'NY', 'black', 'male']!\n",
            "print ['Adams', 'Thomas', '', '63 Maiden Lane', 'Albany', 'NY', 'black', 'male']!\n",
            "print ['Allicot', 'Thomas', '', '63 Columbia', 'Albany', 'NY', 'black', 'male']!\n",
            "print ['Davis', 'Louis', 'barber', 'Lodge St.', 'Albany', 'NY', 'black', 'male']!\n",
            "print ['Divol/Dibble', 'Josiah/Joseph', 'cartman', 'upper State', 'Albany', 'NY', 'black', 'male']!\n",
            "print ['Edge', 'Samuel', 'shoemaker', '3 Chapel', 'Albany', 'NY', 'black', 'male']!\n",
            "print ['Hogner/Hugener', 'John', 'ferryman', '5 Ferry', 'Albany', 'NY', 'black', 'male']!\n",
            "print ['Little', 'Stephen', 'laborer', 'Sturgeon St.', 'Albany', 'NY', 'black', 'male']!\n",
            "print ['March', 'Francis', 'skipper', '217 S. Pearl', 'Albany', 'NY', 'black', 'male']!\n",
            "print ['Morris', 'Joseph', 'tobacconist', '11 N. Market', 'Albany', 'NY', 'black', 'male']!\n",
            "print ['Smith', 'Charles', 'laborer', '186 S. Pearl', 'Albany', 'NY', 'black', 'male']!\n",
            "print ['Stoutenbergh', 'James', 'laborer', 'Sand St', 'Albany', 'NY', 'black', 'male']!\n",
            "print ['Thompson', 'Thomas', 'shoeblack', '596 S. Market', 'Albany', 'NY', 'black', 'male']!\n",
            "print []!\n"
          ],
          "name": "stdout"
        }
      ]
    },
    {
      "cell_type": "markdown",
      "metadata": {
        "id": "MZ8PYFryg2KS"
      },
      "source": [
        "## You Made It!\n",
        "\n",
        "![You otter be proud of yourself](https://media.giphy.com/media/ely3apij36BJhoZ234/giphy.gif)\n",
        "\n",
        "We've covered a lot of ground!  Now you know how to write a function, work with strings and numbers and arrays, perform loops in several different ways, access items, print, and import data!  \n",
        "\n",
        "Some of the major things to know about learning programming languages:\n",
        "- you don't need to memorize.  Good, professional programmers often ask Prof. Google; I asked Prof. Google often as I was writing this.  As you work in python or other languages more, you'll get more comfortable, but the best way to learn is to look at examples, try them out, and figure out how they work.  Stackoverflow is a great resource for this.\n",
        "- The syntax of different languages matter, but the logic is often the same.  That is, def function_name(): and function function_name() {} look different in python and javascript, but the idea is the same.\n",
        "- As you learn a programming language and its syntax, you're also learning the vocabulary to describe what you're doing.  If you get stuck, try writing out in plain English what you're trying to do, and that will often lead you to the answer.\n",
        "\n",
        "So far we've just printed our data to look at it, but already you've got all the foundations you need to analyze and manipulate your data for further use!  We'll build on this foundation in future lessons."
      ]
    }
  ]
}